{
 "metadata": {
  "name": "",
  "signature": "sha256:cd245c0f05aa59c3272a123f58b7134350c648b215e73c06fb25c5af27e91916"
 },
 "nbformat": 3,
 "nbformat_minor": 0,
 "worksheets": [
  {
   "cells": [
    {
     "cell_type": "code",
     "collapsed": false,
     "input": [
      "%matplotlib inline\n",
      "from __future__ import division\n",
      "import pandas as pd\n",
      "import numpy as np\n",
      "\n",
      "import matplotlib.pyplot as plt\n",
      "\n",
      "from sklearn.datasets import load_iris  #pre-packaged set - categorize feature of plant based on params\n",
      "\n",
      "from matplotlib.colors import ListedColormap\n",
      "from sklearn.cross_validation import train_test_split, cross_val_score\n",
      "from sklearn import neighbors, datasets, feature_selection\n",
      "#neighbors module is the KNN\n",
      "iris = datasets.load_iris()\n",
      "  #datasets is a sklearn function - not really a pandas function\n",
      "    #dir(iris) shows all the attributes -- __class__ are built in functions \n",
      "    #have to load into a data frame to work with it\n",
      "\n",
      "iris_df = pd.DataFrame(iris.data, columns=iris.feature_names)\n"
     ],
     "language": "python",
     "metadata": {},
     "outputs": [],
     "prompt_number": 1
    },
    {
     "cell_type": "code",
     "collapsed": false,
     "input": [
      "X_train, X_test, y_train, y_test = train_test_split(iris.data, iris.target, test_size=0.3, random_state=12)"
     ],
     "language": "python",
     "metadata": {},
     "outputs": [],
     "prompt_number": 34
    },
    {
     "cell_type": "code",
     "collapsed": false,
     "input": [
      "scores = []\n",
      "\n",
      "n_neighbors = range(1,25,1)   #\n",
      "for n in n_neighbors:\n",
      "    clf = neighbors.KNeighborsClassifier(n)    #(n) = # of K\n",
      "    clf.fit(X_train, y_train)\n",
      "    scores.append(clf.score(X_test, y_test))\n",
      "    \n",
      "plt.plot(n_neighbors, scores, linewidth=3.0)\n",
      "plt.xlabel=\"n_neighbors\"\n",
      "plt.ylabel=\"score\""
     ],
     "language": "python",
     "metadata": {},
     "outputs": [
      {
       "metadata": {},
       "output_type": "display_data",
       "png": "[encoded data removed]",
       "text": [
        "<matplotlib.figure.Figure at 0x10a101290>"
       ]
      }
     ],
     "prompt_number": 35
    },
    {
     "cell_type": "code",
     "collapsed": false,
     "input": [],
     "language": "python",
     "metadata": {},
     "outputs": [],
     "prompt_number": 18
    },
    {
     "cell_type": "code",
     "collapsed": false,
     "input": [],
     "language": "python",
     "metadata": {},
     "outputs": []
    }
   ],
   "metadata": {}
  }
 ]
}