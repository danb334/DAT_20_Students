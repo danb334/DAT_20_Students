{
 "metadata": {
  "name": "",
  "signature": "sha256:d5be65389ffb82da1b1ac6517dc76f55694b9a6e33eb12136062c4c13b53bf82"
 },
 "nbformat": 3,
 "nbformat_minor": 0,
 "worksheets": [
  {
   "cells": [
    {
     "cell_type": "code",
     "collapsed": false,
     "input": [
      "#Define the line between two different segments \n",
      "#by the fewest number of points - two points in one set and two points in other\n",
      "#so finding those two points - support points\n",
      "#BASICALLY a way to define separation with a few points, vs. ALL of the points\n",
      "#issue is if there are data points that go over the boundary\n",
      "\n",
      "from __future__ import division\n",
      "import pandas as pd\n",
      "import numpy as np\n",
      "\n",
      "import matplotlib.pyplot as plt\n",
      "\n",
      "from sklearn.datasets import load_iris  #pre-packaged set - categorize feature of plant based on params\n",
      "\n",
      "from matplotlib.colors import ListedColormap\n",
      "from sklearn.cross_validation import train_test_split, cross_val_score\n",
      "from sklearn import neighbors, datasets, feature_selection\n",
      "\n"
     ],
     "language": "python",
     "metadata": {},
     "outputs": [],
     "prompt_number": 1
    },
    {
     "cell_type": "code",
     "collapsed": false,
     "input": [
      "iris = datasets.load_iris()\n",
      "iris_df = pd.DataFrame(iris.data, columns=iris.feature_names)\n",
      "iris_df.columns"
     ],
     "language": "python",
     "metadata": {},
     "outputs": [
      {
       "metadata": {},
       "output_type": "pyout",
       "prompt_number": 3,
       "text": [
        "Index([u'sepal length (cm)', u'sepal width (cm)', u'petal length (cm)', u'petal width (cm)'], dtype='object')"
       ]
      }
     ],
     "prompt_number": 3
    },
    {
     "cell_type": "code",
     "collapsed": false,
     "input": [
      "%matplotlib inline\n",
      "X = iris_df[['sepal length (cm)','petal length (cm)']]\n",
      "X.plot(kind='scatter', x='sepal length (cm)', y='petal length (cm)')"
     ],
     "language": "python",
     "metadata": {},
     "outputs": [
      {
       "metadata": {},
       "output_type": "pyout",
       "prompt_number": 5,
       "text": [
        "<matplotlib.axes._subplots.AxesSubplot at 0x10cfea490>"
       ]
      },
      {
       "metadata": {},
       "output_type": "display_data",
       "png": "[encoded data removed]",
       "text": [
        "<matplotlib.figure.Figure at 0x10915a050>"
       ]
      }
     ],
     "prompt_number": 5
    },
    {
     "cell_type": "code",
     "collapsed": false,
     "input": [],
     "language": "python",
     "metadata": {},
     "outputs": []
    }
   ],
   "metadata": {}
  }
 ]
}