{
 "metadata": {
  "name": "",
  "signature": "sha256:142a06fa64ff387e19d6c9aca55295060a1d5737a3fbc32b4c8bb9f94584c4b4"
 },
 "nbformat": 3,
 "nbformat_minor": 0,
 "worksheets": [
  {
   "cells": [
    {
     "cell_type": "code",
     "collapsed": false,
     "input": [
      "%matplotlib inline\n",
      "\n",
      "import matplotlib.pyplot as plt\n",
      "import pandas as pd\n",
      "import numpy as np\n",
      "\n",
      "names = ['instant',\n",
      "         'dteday',\n",
      "         'season',\n",
      "         'yr',\n",
      "         'mnth',\n",
      "         'hr',\n",
      "         'holiday',\n",
      "         'weekday',\n",
      "         'workingday',\n",
      "         'weathersit',\n",
      "         'temp',\n",
      "         'atemp',\n",
      "         'hum',\n",
      "         'windspeed',\n",
      "         'casual',\n",
      "         'registered',\n",
      "         'cnt']\n",
      "data = pd.read_csv('bikeshare.csv', header=0).dropna()"
     ],
     "language": "python",
     "metadata": {},
     "outputs": [],
     "prompt_number": 1
    }
   ],
   "metadata": {}
  }
 ]
}