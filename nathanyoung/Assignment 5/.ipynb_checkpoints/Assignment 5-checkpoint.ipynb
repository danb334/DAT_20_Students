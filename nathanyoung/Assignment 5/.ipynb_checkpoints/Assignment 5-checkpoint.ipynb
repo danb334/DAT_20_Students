{
 "metadata": {
  "name": "",
  "signature": "sha256:308a07822876bc7fcc840668f8a9f1a0fbeb65b8c7e278d0e70aa3d370df9677"
 },
 "nbformat": 3,
 "nbformat_minor": 0,
 "worksheets": []
}