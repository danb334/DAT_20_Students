{
 "metadata": {
  "name": "",
  "signature": "sha256:d8019cd34a27e030f31267a80023dee63da51cf8aada93c06a641ca9eb098b32"
 },
 "nbformat": 3,
 "nbformat_minor": 0,
 "worksheets": [
  {
   "cells": [
    {
     "cell_type": "code",
     "collapsed": false,
     "input": [
      "import pandas as pd\n",
      "import numpy as np\n",
      "import matplotlib.pyplot as plt\n",
      "\n",
      "%matplotlib inline"
     ],
     "language": "python",
     "metadata": {},
     "outputs": [],
     "prompt_number": 48
    },
    {
     "cell_type": "code",
     "collapsed": false,
     "input": [
      "# df1 = 5637\n",
      "# df2 = NTUB\n",
      "# df3 = UM-UC3\n",
      "\n",
      "df1 = pd.read_csv('5637_Promoter_Ann_DMRs.csv', sep=',', header=0, usecols=[5, 7])\n",
      "df2 = pd.read_csv('NTUB_Promoter_Ann_DMRs.csv', sep=',', header=0, usecols=[5, 7])\n",
      "df3 = pd.read_csv('UM_UC3_Promoter_Ann_DMRs.csv', sep=',', header=0, usecols=[5, 7])\n",
      "\n",
      "column_names = ['gene',\n",
      "                'q_value']\n",
      "\n",
      "df1.columns = column_names\n",
      "df2.columns = column_names\n",
      "df3.columns = column_names"
     ],
     "language": "python",
     "metadata": {},
     "outputs": [],
     "prompt_number": 49
    },
    {
     "cell_type": "code",
     "collapsed": false,
     "input": [
      "print df1.head(3)\n",
      "print df2.head(3)\n",
      "print df3.head(3)"
     ],
     "language": "python",
     "metadata": {},
     "outputs": [
      {
       "output_type": "stream",
       "stream": "stdout",
       "text": [
        "     gene   q_value\n",
        "0  PRDM16  0.003402\n",
        "1  PRDM16  0.009111\n",
        "2  PRDM16  0.003402\n",
        "     gene       q_value\n",
        "0  PRDM16  8.980000e-16\n",
        "1  PRDM16  5.320000e-07\n",
        "2  PRDM16  6.324170e-04\n",
        "     gene   q_value\n",
        "0   AGBL4  0.000005\n",
        "1     ADC  0.000016\n",
        "2  PRDM16  0.000867\n"
       ]
      }
     ],
     "prompt_number": 50
    },
    {
     "cell_type": "code",
     "collapsed": false,
     "input": [
      "grouped1 = df1.groupby('gene').mean().sort('q_value', ascending=True)\n",
      "grouped2 = df2.groupby('gene').mean().sort('q_value', ascending=True)\n",
      "grouped3 = df3.groupby('gene').mean().sort('q_value', ascending=True)\n",
      "\n",
      "print grouped1.head(3)\n",
      "print grouped2.head(3)\n",
      "print grouped3.head(3)"
     ],
     "language": "python",
     "metadata": {},
     "outputs": [
      {
       "output_type": "stream",
       "stream": "stdout",
       "text": [
        "             q_value\n",
        "gene                \n",
        "PHLDB2  2.540000e-11\n",
        "ANO4    1.160000e-10\n",
        "KDELR3  1.740000e-10\n",
        "               q_value\n",
        "gene                  \n",
        "CD58      1.800000e-56\n",
        "CD24      2.960000e-34\n",
        "HIST1H3F  4.850000e-23\n",
        "             q_value\n",
        "gene                \n",
        "PAFAH2  2.140000e-28\n",
        "BTN1A1  3.040000e-27\n",
        "SCRIB   6.880000e-27\n"
       ]
      }
     ],
     "prompt_number": 51
    }
   ],
   "metadata": {}
  }
 ]
}