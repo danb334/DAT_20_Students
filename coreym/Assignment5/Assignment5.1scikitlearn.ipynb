{
 "cells": [
  {
   "cell_type": "code",
   "execution_count": 2,
   "metadata": {
    "collapsed": true
   },
   "outputs": [],
   "source": [
    "# Read in the bikeshare data to a pandas dataframe just as you did for the previous assignment.\n",
    "# Split the dataframe horizontally into two separate dataframes each having N/2 rows. \n",
    "# Call the dataframe with first N/2 rows bikeshare_train, and the latter half bikeshare_test\n",
    "# Using the bikeshare_train dataframe run a regression with cnt as our target \n",
    "# variable, and temp, atemp, hum, workingday, hour, weathersit as the feature variables. \n",
    "# Specify the R^2 value. We'll call this our training model \n",
    "# The resulting model should have one more coefficient than the number of feature variables.\n",
    "# Describe the error (in terms of R^2) between the model you just calculated and the bikeshare_test. \n",
    "# Is this higher or lower than the R^2 of the previous step? What's the reason for this difference?\n",
    "# Create a binary variable for rush hour defined by 6-9am & 4-6pm.\n",
    "# Run the regression again. Using a similar process used in steps 2 and 3, \n",
    "# assert whether this improves the results or not. Why? (You should be able to explain this quantitatively)"
   ]
  },
  {
   "cell_type": "code",
   "execution_count": 14,
   "metadata": {
    "collapsed": true
   },
   "outputs": [],
   "source": [
    "import numpy as np\n",
    "import pandas as pd\n",
    "import matplotlib.pyplot as plt\n",
    "from sklearn.linear_model import LinearRegression\n",
    "from sklearn.cross_validation import train_test_split\n",
    "from sklearn.linear_model import Ridge\n",
    "from sklearn.preprocessing import PolynomialFeatures\n",
    "from sklearn.pipeline import make_pipeline\n",
    "\n",
    "\n",
    "%matplotlib inline\n",
    "\n",
    "url = '../../../DAT_20_NYC/Data/bikeshare.csv'\n",
    "# Read in the bikeshare data to a pandas dataframe just as you did for the previous assignment.\n",
    "bikeshare_csv = pd.read_csv(url)"
   ]
  },
  {
   "cell_type": "code",
   "execution_count": 15,
   "metadata": {
    "collapsed": false
   },
   "outputs": [
    {
     "data": {
      "text/html": [
       "<div style=\"max-height:1000px;max-width:1500px;overflow:auto;\">\n",
       "<table border=\"1\" class=\"dataframe\">\n",
       "  <thead>\n",
       "    <tr style=\"text-align: right;\">\n",
       "      <th></th>\n",
       "      <th>instant</th>\n",
       "      <th>dteday</th>\n",
       "      <th>season</th>\n",
       "      <th>yr</th>\n",
       "      <th>mnth</th>\n",
       "      <th>hr</th>\n",
       "      <th>holiday</th>\n",
       "      <th>weekday</th>\n",
       "      <th>workingday</th>\n",
       "      <th>weathersit</th>\n",
       "      <th>temp</th>\n",
       "      <th>atemp</th>\n",
       "      <th>hum</th>\n",
       "      <th>windspeed</th>\n",
       "      <th>casual</th>\n",
       "      <th>registered</th>\n",
       "      <th>cnt</th>\n",
       "    </tr>\n",
       "  </thead>\n",
       "  <tbody>\n",
       "    <tr>\n",
       "      <th>0</th>\n",
       "      <td> 1</td>\n",
       "      <td> 2011-01-01</td>\n",
       "      <td> 1</td>\n",
       "      <td> 0</td>\n",
       "      <td> 1</td>\n",
       "      <td> 0</td>\n",
       "      <td> 0</td>\n",
       "      <td> 6</td>\n",
       "      <td> 0</td>\n",
       "      <td> 1</td>\n",
       "      <td> 0.24</td>\n",
       "      <td> 0.2879</td>\n",
       "      <td> 0.81</td>\n",
       "      <td> 0</td>\n",
       "      <td> 3</td>\n",
       "      <td> 13</td>\n",
       "      <td> 16</td>\n",
       "    </tr>\n",
       "    <tr>\n",
       "      <th>1</th>\n",
       "      <td> 2</td>\n",
       "      <td> 2011-01-01</td>\n",
       "      <td> 1</td>\n",
       "      <td> 0</td>\n",
       "      <td> 1</td>\n",
       "      <td> 1</td>\n",
       "      <td> 0</td>\n",
       "      <td> 6</td>\n",
       "      <td> 0</td>\n",
       "      <td> 1</td>\n",
       "      <td> 0.22</td>\n",
       "      <td> 0.2727</td>\n",
       "      <td> 0.80</td>\n",
       "      <td> 0</td>\n",
       "      <td> 8</td>\n",
       "      <td> 32</td>\n",
       "      <td> 40</td>\n",
       "    </tr>\n",
       "    <tr>\n",
       "      <th>2</th>\n",
       "      <td> 3</td>\n",
       "      <td> 2011-01-01</td>\n",
       "      <td> 1</td>\n",
       "      <td> 0</td>\n",
       "      <td> 1</td>\n",
       "      <td> 2</td>\n",
       "      <td> 0</td>\n",
       "      <td> 6</td>\n",
       "      <td> 0</td>\n",
       "      <td> 1</td>\n",
       "      <td> 0.22</td>\n",
       "      <td> 0.2727</td>\n",
       "      <td> 0.80</td>\n",
       "      <td> 0</td>\n",
       "      <td> 5</td>\n",
       "      <td> 27</td>\n",
       "      <td> 32</td>\n",
       "    </tr>\n",
       "    <tr>\n",
       "      <th>3</th>\n",
       "      <td> 4</td>\n",
       "      <td> 2011-01-01</td>\n",
       "      <td> 1</td>\n",
       "      <td> 0</td>\n",
       "      <td> 1</td>\n",
       "      <td> 3</td>\n",
       "      <td> 0</td>\n",
       "      <td> 6</td>\n",
       "      <td> 0</td>\n",
       "      <td> 1</td>\n",
       "      <td> 0.24</td>\n",
       "      <td> 0.2879</td>\n",
       "      <td> 0.75</td>\n",
       "      <td> 0</td>\n",
       "      <td> 3</td>\n",
       "      <td> 10</td>\n",
       "      <td> 13</td>\n",
       "    </tr>\n",
       "    <tr>\n",
       "      <th>4</th>\n",
       "      <td> 5</td>\n",
       "      <td> 2011-01-01</td>\n",
       "      <td> 1</td>\n",
       "      <td> 0</td>\n",
       "      <td> 1</td>\n",
       "      <td> 4</td>\n",
       "      <td> 0</td>\n",
       "      <td> 6</td>\n",
       "      <td> 0</td>\n",
       "      <td> 1</td>\n",
       "      <td> 0.24</td>\n",
       "      <td> 0.2879</td>\n",
       "      <td> 0.75</td>\n",
       "      <td> 0</td>\n",
       "      <td> 0</td>\n",
       "      <td>  1</td>\n",
       "      <td>  1</td>\n",
       "    </tr>\n",
       "  </tbody>\n",
       "</table>\n",
       "</div>"
      ],
      "text/plain": [
       "   instant      dteday  season  yr  mnth  hr  holiday  weekday  workingday  \\\n",
       "0        1  2011-01-01       1   0     1   0        0        6           0   \n",
       "1        2  2011-01-01       1   0     1   1        0        6           0   \n",
       "2        3  2011-01-01       1   0     1   2        0        6           0   \n",
       "3        4  2011-01-01       1   0     1   3        0        6           0   \n",
       "4        5  2011-01-01       1   0     1   4        0        6           0   \n",
       "\n",
       "   weathersit  temp   atemp   hum  windspeed  casual  registered  cnt  \n",
       "0           1  0.24  0.2879  0.81          0       3          13   16  \n",
       "1           1  0.22  0.2727  0.80          0       8          32   40  \n",
       "2           1  0.22  0.2727  0.80          0       5          27   32  \n",
       "3           1  0.24  0.2879  0.75          0       3          10   13  \n",
       "4           1  0.24  0.2879  0.75          0       0           1    1  "
      ]
     },
     "execution_count": 15,
     "metadata": {},
     "output_type": "execute_result"
    }
   ],
   "source": [
    "bikeshare_csv.head()"
   ]
  },
  {
   "cell_type": "code",
   "execution_count": 16,
   "metadata": {
    "collapsed": false
   },
   "outputs": [
    {
     "name": "stdout",
     "output_type": "stream",
     "text": [
      "Original DF: 17379 Rows\n",
      "Train: 8689 Rows\n",
      "Test: 8690 Rows\n"
     ]
    }
   ],
   "source": [
    "features = ['temp','atemp','hum','workingday','hr','weathersit']\n",
    "# Split the dataframe horizontally into two separate dataframes each having N/2 rows. \n",
    "# Call the dataframe with first N/2 rows bikeshare_train, and the latter half bikeshare_test\n",
    "bikeshare_train = bikeshare_csv[:(len(bikeshare_csv) / 2)]\n",
    "bikeshare_test = bikeshare_csv[(len(bikeshare_csv) / 2):]\n",
    "\n",
    "print \"Original DF: %s\" % len(bikeshare_csv) + \" Rows\"\n",
    "print \"Train: %s\" % len(bikeshare_train) + \" Rows\"\n",
    "print \"Test: %s\" % len(bikeshare_test) + \" Rows\""
   ]
  },
  {
   "cell_type": "code",
   "execution_count": 20,
   "metadata": {
    "collapsed": false
   },
   "outputs": [
    {
     "name": "stdout",
     "output_type": "stream",
     "text": [
      "R^2 is: 0.36711033766\n"
     ]
    }
   ],
   "source": [
    "# Using the bikeshare_train dataframe run a regression with cnt as our target \n",
    "# variable, and temp, atemp, hum, workingday, hour, weathersit as the feature variables. \n",
    "\n",
    "import statsmodels.formula.api as smf\n",
    "\n",
    "# create a fitted model in one line\n",
    "model = smf.ols(formula='cnt ~ temp + atemp + hum + workingday + hr + weathersit', data=bikeshare_train).fit()\n",
    "\n",
    "# Specify the R^2 value. We'll call this our training model \n",
    "print \"R^2 is: %s\" % model.rsquared"
   ]
  },
  {
   "cell_type": "code",
   "execution_count": 6,
   "metadata": {
    "collapsed": false
   },
   "outputs": [
    {
     "data": {
      "text/plain": [
       "LinearRegression(copy_X=True, fit_intercept=True, normalize=False)"
      ]
     },
     "execution_count": 6,
     "metadata": {},
     "output_type": "execute_result"
    }
   ],
   "source": [
    "# Using the bikeshare_train dataframe run a regression with cnt as our target \n",
    "# variable, and temp, atemp, hum, workingday, hour, weathersit as the feature variables. \n",
    "\n",
    "# X_train = bikeshare_train[features]\n",
    "# X_test = bikeshare_test[features]\n",
    "# y_train = bikeshare_train['cnt']\n",
    "# y_test = bikeshare_test['cnt']\n",
    "\n",
    "# model = LinearRegression()\n",
    "\n",
    "# model.fit(X_train,y_train)"
   ]
  },
  {
   "cell_type": "code",
   "execution_count": null,
   "metadata": {
    "collapsed": true
   },
   "outputs": [],
   "source": []
  },
  {
   "cell_type": "code",
   "execution_count": 18,
   "metadata": {
    "collapsed": false
   },
   "outputs": [],
   "source": [
    "# Specify the R^2 value. We'll call this our training model \n",
    "# The resulting model should have one more coefficient than the number of feature variables.\n",
    "# but it doesn't :( \n",
    "# print \"R^2: %s\" % model.score(X_train, y_train)\n",
    "# print \"Intercept: %s\" % model.intercept_\n",
    "# #print coefficients\n",
    "# zip(X_train.columns, model.coef_)"
   ]
  },
  {
   "cell_type": "code",
   "execution_count": 8,
   "metadata": {
    "collapsed": false
   },
   "outputs": [
    {
     "name": "stdout",
     "output_type": "stream",
     "text": [
      "R^2: 0.139406068786\n"
     ]
    }
   ],
   "source": [
    "# Describe the error (in terms of R^2) between the model you just calculated and the bikeshare_test. \n",
    "# Is this higher or lower than the R^2 of the previous step? What's the reason for this difference?\n",
    "print \"R^2: %s\" % model.score(X_test, y_test)\n",
    "\n",
    "# must be overfitting the training dataset"
   ]
  },
  {
   "cell_type": "code",
   "execution_count": 9,
   "metadata": {
    "collapsed": false
   },
   "outputs": [
    {
     "name": "stderr",
     "output_type": "stream",
     "text": [
      "/Users/corey/.virtualenvs/GA/lib/python2.7/site-packages/IPython/kernel/__main__.py:8: SettingWithCopyWarning: \n",
      "A value is trying to be set on a copy of a slice from a DataFrame.\n",
      "Try using .loc[row_indexer,col_indexer] = value instead\n",
      "\n",
      "See the the caveats in the documentation: http://pandas.pydata.org/pandas-docs/stable/indexing.html#indexing-view-versus-copy\n",
      "/Users/corey/.virtualenvs/GA/lib/python2.7/site-packages/IPython/kernel/__main__.py:10: SettingWithCopyWarning: \n",
      "A value is trying to be set on a copy of a slice from a DataFrame.\n",
      "Try using .loc[row_indexer,col_indexer] = value instead\n",
      "\n",
      "See the the caveats in the documentation: http://pandas.pydata.org/pandas-docs/stable/indexing.html#indexing-view-versus-copy\n"
     ]
    },
    {
     "data": {
      "text/plain": [
       "LinearRegression(copy_X=True, fit_intercept=True, normalize=False)"
      ]
     },
     "execution_count": 9,
     "metadata": {},
     "output_type": "execute_result"
    }
   ],
   "source": [
    "# Create a binary variable for rush hour defined by 6-9am & 4-6pm.\n",
    "# Run the regression again. Using a similar process used in steps 2 and 3, \n",
    "# assert whether this improves the results or not. Why? (You should be able to explain this quantitatively\n",
    "from math import ceil\n",
    "rush_hour = [int((x > 5 and x < 10) or (x > 15 and x < 19)) for x in bikeshare_csv['hr']]\n",
    "\n",
    "X1_train = X_train\n",
    "X1_train['rush_hour'] = rush_hour[ : 8689]\n",
    "X1_test = bikeshare_test[features]\n",
    "X1_test['rush_hour'] = rush_hour[8689 : ]\n",
    "y1_train = bikeshare_train['cnt']\n",
    "y1_test = bikeshare_test['cnt']\n",
    "\n",
    "model = LinearRegression()\n",
    "\n",
    "model.fit(X1_train,y1_train)\n"
   ]
  },
  {
   "cell_type": "code",
   "execution_count": 12,
   "metadata": {
    "collapsed": false
   },
   "outputs": [
    {
     "name": "stdout",
     "output_type": "stream",
     "text": [
      "R^2: 0.505642825624\n",
      "Intercept: -10.0675882001\n"
     ]
    },
    {
     "data": {
      "text/plain": [
       "[('temp', 124.27058163381531),\n",
       " ('atemp', 169.23306331263109),\n",
       " ('hum', -120.99052840738021),\n",
       " ('workingday', -1.0337982964049584),\n",
       " ('hr', 6.0665799133984413),\n",
       " ('weathersit', -7.0620522184271799),\n",
       " ('rush_hour', 109.1759659178276)]"
      ]
     },
     "execution_count": 12,
     "metadata": {},
     "output_type": "execute_result"
    }
   ],
   "source": [
    "print \"R^2: %s\" % model.score(X1_train, y1_train)\n",
    "print \"Intercept: %s\" % model.intercept_\n",
    "# print coefficients\n",
    "zip(X1_train.columns, model.coef_)"
   ]
  },
  {
   "cell_type": "code",
   "execution_count": null,
   "metadata": {
    "collapsed": false
   },
   "outputs": [],
   "source": [
    "print \"R^2: %s\" % model.score(X1_test, y1_test)"
   ]
  },
  {
   "cell_type": "code",
   "execution_count": null,
   "metadata": {
    "collapsed": true
   },
   "outputs": [],
   "source": [
    "# the model has improved, because the R^2 value difference on cross validation improved by ~.14"
   ]
  }
 ],
 "metadata": {
  "kernelspec": {
   "display_name": "Python 2",
   "language": "python",
   "name": "python2"
  },
  "language_info": {
   "codemirror_mode": {
    "name": "ipython",
    "version": 2
   },
   "file_extension": ".py",
   "mimetype": "text/x-python",
   "name": "python",
   "nbconvert_exporter": "python",
   "pygments_lexer": "ipython2",
   "version": "2.7.5"
  }
 },
 "nbformat": 4,
 "nbformat_minor": 0
}
