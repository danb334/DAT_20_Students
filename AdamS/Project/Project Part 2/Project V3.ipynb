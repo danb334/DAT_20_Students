{
 "cells": [
  {
   "cell_type": "code",
   "execution_count": 1,
   "metadata": {
    "collapsed": false
   },
   "outputs": [
    {
     "name": "stdout",
     "output_type": "stream",
     "text": [
      "                                           Name  Product_ID  \\\n",
      "0               American Style Pepper Sauce A&B          76   \n",
      "1                            Jalapeno Adoboloco          77   \n",
      "2                            Habanero Adoboloco          78   \n",
      "3                             Bangkok Adoboloco          79   \n",
      "4  Hamajang Kiawe Smoked Ghost Pepper Adoboloco          80   \n",
      "\n",
      "                                         Ingredients  Sweet  Smoke  Fruit  \\\n",
      "0  White Vinegar, Red Fresno Chili Pepper, Carrot...      2      0      5   \n",
      "1  Apple Cider Vinegar, Jalape�o Peppers, Sea Sal...      1      0      3   \n",
      "2  Apple Cider Vinegar, Habanero Peppers, Sea Sal...      1      0      3   \n",
      "3  Apple Cider Vinegar, Thai Peppers, Sea Salt, G...      1      0      3   \n",
      "4  Apple Cider Vinegar, Ghost Peppers + Habanero,...      1      0      3   \n",
      "\n",
      "   Vinegar  Salt  Garlic  Adventure           ...            Jalapeno  \\\n",
      "0        6     2       0          2           ...                   0   \n",
      "1        5     3       3          2           ...                   1   \n",
      "2        5     3       3          2           ...                   0   \n",
      "3        5     3       3          5           ...                   0   \n",
      "4        5     3       3          4           ...                   0   \n",
      "\n",
      "   Serrano  Scotch_Bonnet  Habanero  Ghost_Pepper  Moruga_Scorpion  \\\n",
      "0        0              0         1             0                0   \n",
      "1        0              0         0             0                0   \n",
      "2        0              0         1             0                0   \n",
      "3        0              0         0             0                0   \n",
      "4        0              0         1             1                0   \n",
      "\n",
      "   Carolina_Reaper  Vegan_Only  No_Gluten  No_Alcohol_Ingredients  \n",
      "0                0           1          1                       1  \n",
      "1                0           1          1                       1  \n",
      "2                0           1          1                       1  \n",
      "3                0           1          1                       1  \n",
      "4                0           1          1                       1  \n",
      "\n",
      "[5 rows x 21 columns]\n"
     ]
    }
   ],
   "source": [
    "#Add discrete heat variables\n",
    "\n",
    "import pandas as pd\n",
    "import numpy as np\n",
    "import csv as csv\n",
    "import matplotlib as mpl\n",
    "import matplotlib.pyplot as plt\n",
    "import sklearn.linear_model\n",
    "import sklearn.svm\n",
    "from datetime import datetime, date, time\n",
    "from IPython.display import Image\n",
    "%matplotlib inline\n",
    "\n",
    "import sklearn.cross_validation\n",
    "\n",
    "from sklearn.preprocessing import OneHotEncoder\n",
    "\n",
    "hotsauce = pd.read_csv('hotsauces.csv')\n",
    "surveys = pd.read_csv('surveys.csv')\n",
    "questions = ['Sweet ','Smoke ','Fruit ','Vinegar ','Salt ','Garlic ','Adventure ','Heat','Jalapeno','Serrano','Scotch_Bonnet','Habanero','Ghost_Pepper','Moruga_Scorpion','Carolina_Reaper','Vegan_Only','No_Gluten','No_Alcohol_Ingredients']\n",
    "print hotsauce.head()\n",
    "#print hotsauce.describe()\n",
    "\n"
   ]
  },
  {
   "cell_type": "code",
   "execution_count": 2,
   "metadata": {
    "collapsed": false
   },
   "outputs": [
    {
     "name": "stdout",
     "output_type": "stream",
     "text": [
      "[5 0 0 0 0 0 0 0 0 1 1]\n"
     ]
    },
    {
     "data": {
      "text/plain": [
       "'\\nfor n in hotsauce_cnt:\\n    for i in questions_cnt:\\n        print np.power((hotsauce.ix[i,1] - surveys.ix[i,1]),2)\\n    \\nprint len(questions)\\n'"
      ]
     },
     "execution_count": 2,
     "metadata": {},
     "output_type": "execute_result"
    }
   ],
   "source": [
    "\n",
    "questions_cnt = np.arange(1,len(questions))\n",
    "\n",
    "\n",
    "#print hotsauce.ix[1].ix[0]\n",
    "print (hotsauce.ix[5][['Heat','Jalapeno','Serrano','Scotch_Bonnet','Habanero','Ghost_Pepper','Moruga_Scorpion','Carolina_Reaper','Vegan_Only','No_Gluten','No_Alcohol_Ingredients']]).values\n",
    "\n",
    "\"\"\"\n",
    "for n in hotsauce_cnt:\n",
    "    for i in questions_cnt:\n",
    "        print np.power((hotsauce.ix[i,1] - surveys.ix[i,1]),2)\n",
    "    \n",
    "print len(questions)\n",
    "\"\"\""
   ]
  },
  {
   "cell_type": "code",
   "execution_count": 86,
   "metadata": {
    "collapsed": false
   },
   "outputs": [
    {
     "name": "stdout",
     "output_type": "stream",
     "text": [
      "([[8, 'Rogue High River Sauces'], [12, 'Black Label Lucky Dog'], [13, 'Hamajang Kiawe Smoked Ghost Pepper Adoboloco'], [13, 'Naughty #4 Horsetooth Hot Sauce'], [18, 'Bangkok Adoboloco'], [27, \"Big Smoke Dawson's Hot Sauce\"], [27, 'Brooklyn Grange Hot Sauce'], [27, 'The Green Horsetooth Hot Sauce'], [28, 'Habanero Adoboloco'], [37, \"Garlic Jalapeno Dawson's Hot Sauce\"], [37, 'Jalapeno Adoboloco'], [38, 'Red Label Lucky Dog'], [38, \"Sweet Pear Chili Dawson's Hot Sauce\"], [38, 'Tears Of The Sun High River Sauces'], [39, 'Cherry Bomb Hot Sauce'], [39, 'The \"O\" Face Horsetooth Hot Sauce '], [51, 'Bad Karma Sauce'], [51, 'Extreme Karma'], [51, 'Green Label Lucky Dog']], [10, 1, 1, 0, 0, 0, 0, 0, 1, 1, 0])\n"
     ]
    }
   ],
   "source": [
    "def findsauces (saucer, surveyor):\n",
    "    sumsqerr = 0\n",
    "    for i in range(0,len(saucer)):\n",
    "        sumsqerr += np.power(saucer[i] - surveyor[i],2)\n",
    "    return sumsqerr\n",
    "\n",
    "def finalsauces (surveyor2):\n",
    "    hotsauce_cnt = np.arange(1,hotsauce['Product_ID'].count())\n",
    "    scores = [[] for i in range(hotsauce['Product_ID'].count())]\n",
    "    for n in hotsauce_cnt:\n",
    "        hotsauce2 = pd.DataFrame(hotsauce)\n",
    "        if surveyor2[8] == 1:\n",
    "            hotsauce2.drop(hotsauce2[hotsauce2['Vegan_Only']==0], axis = 1)\n",
    "        if surveyor2[9] == 1:\n",
    "            hotsauce2.drop(hotsauce2[hotsauce2['No_Gluten']==0], axis = 1)\n",
    "        if surveyor2[10] == 1:\n",
    "            hotsauce2.drop(hotsauce2[hotsauce2['No_Alcohol_Ingredients']==0], axis = 1)\n",
    "        arr1 = (hotsauce2.ix[n][['Heat','Jalapeno','Serrano','Scotch_Bonnet','Habanero','Ghost_Pepper','Moruga_Scorpion','Carolina_Reaper']]).values\n",
    "        arr2 = surveyor2\n",
    "        scores[n].append(findsauces(arr1,arr2))\n",
    "        scores[n].append(hotsauce.ix[n]['Name'])\n",
    "    scores = filter(bool,scores)\n",
    "    return sorted(scores, reverse=False), surveyor2\n",
    "\"\"\"\n",
    "for i in np.arange(1,surveys['Survey'].count()):\n",
    "    arr2 = (surveys.ix[i][['Heat','Jalapeno','Serrano','Scotch_Bonnet','Habanero','Ghost_Pepper','Moruga_Scorpion','Carolina_Reaper','Vegan_Only','No_Gluten','No_Alcohol_Ingredients']]).values\n",
    "    print finalsauces(arr2)\n",
    "\"\"\"\n",
    "arr3 = [10,1,1,0,0,0,0,0,1,1,0]\n",
    "print finalsauces(arr3)\n",
    "#print hotsauce[[questions]]\n",
    "#print findsauces(arr1,arr2)"
   ]
  },
  {
   "cell_type": "code",
   "execution_count": 96,
   "metadata": {
    "collapsed": false
   },
   "outputs": [
    {
     "name": "stdout",
     "output_type": "stream",
     "text": [
      "                                            Name  Product_ID  \\\n",
      "0                American Style Pepper Sauce A&B          76   \n",
      "1                             Jalapeno Adoboloco          77   \n",
      "2                             Habanero Adoboloco          78   \n",
      "3                              Bangkok Adoboloco          79   \n",
      "4   Hamajang Kiawe Smoked Ghost Pepper Adoboloco          80   \n",
      "5                      Brooklyn Grange Hot Sauce          81   \n",
      "6                   Big Smoke Dawson's Hot Sauce          82   \n",
      "7            Sweet Pear Chili Dawson's Hot Sauce          83   \n",
      "8             Garlic Jalapeno Dawson's Hot Sauce          84   \n",
      "9             Tears Of The Sun High River Sauces          85   \n",
      "10                       Rogue High River Sauces          86   \n",
      "11                The Green Horsetooth Hot Sauce          87   \n",
      "12            The \"O\" Face Horsetooth Hot Sauce           88   \n",
      "13               Naughty #4 Horsetooth Hot Sauce          89   \n",
      "14                               Bad Karma Sauce          90   \n",
      "15                         Cherry Bomb Hot Sauce          91   \n",
      "16                                 Extreme Karma          92   \n",
      "17                         Green Label Lucky Dog          93   \n",
      "18                           Red Label Lucky Dog          94   \n",
      "19                         Black Label Lucky Dog          95   \n",
      "\n",
      "                                          Ingredients  Sweet  Smoke  Fruit  \\\n",
      "0   White Vinegar, Red Fresno Chili Pepper, Carrot...      2      0      5   \n",
      "1   Apple Cider Vinegar, Jalape�o Peppers, Sea Sal...      1      0      3   \n",
      "2   Apple Cider Vinegar, Habanero Peppers, Sea Sal...      1      0      3   \n",
      "3   Apple Cider Vinegar, Thai Peppers, Sea Salt, G...      1      0      3   \n",
      "4   Apple Cider Vinegar, Ghost Peppers + Habanero,...      1      0      3   \n",
      "5   Peppers, White Vinegar, Beets, Herbs, Spices, ...      7      0      6   \n",
      "6   Chipotle peppers, Vinegar, Vietnamese chili, S...      6      6      4   \n",
      "7   Pear, Vinegar, Vietnamese chili, Garlic, Extra...      7      0      7   \n",
      "8   Vinegar, Jalape�o, Garlic, Onion, Vietnamese c...      2      0      3   \n",
      "9   Habanero Peppers, Peaches, Papaya, Pineapple, ...      7      0      8   \n",
      "10  Moruga Scorpion Peppers, Jolokia Peppers, Red ...      6      0      7   \n",
      "11  Distilled White Vinegar, Green Habaneros, Serr...      3      0      4   \n",
      "12  Distilled White Vinegar, Orange Habaneros, Can...      6      0      6   \n",
      "13  Distilled white vinegar, Mango, Scotch bonnets...      5      0      6   \n",
      "14  Red pepper, Butternut squash, Apple cider Vine...      5      0      5   \n",
      "15  Sour cherries, Habanero pepper, Onion, Apple, ...      7      0      8   \n",
      "16  Red pepper, Butternut squash, Apple cider vine...      7      0      6   \n",
      "17  Water, Carrot juice, Chile peppers, Sea salt, ...      6      0      5   \n",
      "18  Apple cider vinegar, Onions, Roasted chile pep...      6      0      4   \n",
      "19  Onions, Apple cider vinegar, Water, Organic ap...      7      0      4   \n",
      "\n",
      "    Vinegar  Salt  Garlic  Adventure           ...            Jalapeno  \\\n",
      "0         6     2       0          2           ...                   0   \n",
      "1         5     3       3          2           ...                   1   \n",
      "2         5     3       3          2           ...                   0   \n",
      "3         5     3       3          5           ...                   0   \n",
      "4         5     3       3          4           ...                   0   \n",
      "5         4     2       0          3           ...                   0   \n",
      "6         4     3       0          5           ...                   1   \n",
      "7         4     1       0          5           ...                   0   \n",
      "8         5     2       5          5           ...                   1   \n",
      "9         3     2       3          7           ...                   1   \n",
      "10        3     1       3          7           ...                   0   \n",
      "11        5     3       5          2           ...                   0   \n",
      "12        4     2       3          5           ...                   0   \n",
      "13        4     2       0          6           ...                   0   \n",
      "14        3     2       2          5           ...                   0   \n",
      "15        4     0       0          7           ...                   0   \n",
      "16        4     2       3          3           ...                   0   \n",
      "17        0     4       0          3           ...                   0   \n",
      "18        5     0       0          3           ...                   0   \n",
      "19        5     0       0          3           ...                   1   \n",
      "\n",
      "    Serrano  Scotch_Bonnet  Habanero  Ghost_Pepper  Moruga_Scorpion  \\\n",
      "0         0              0         1             0                0   \n",
      "1         0              0         0             0                0   \n",
      "2         0              0         1             0                0   \n",
      "3         0              0         0             0                0   \n",
      "4         0              0         1             1                0   \n",
      "5         0              0         0             0                0   \n",
      "6         0              1         0             0                0   \n",
      "7         0              0         0             0                0   \n",
      "8         0              0         0             0                0   \n",
      "9         0              0         1             0                0   \n",
      "10        1              0         1             1                1   \n",
      "11        1              0         1             0                0   \n",
      "12        0              0         1             0                0   \n",
      "13        0              1         1             0                0   \n",
      "14        0              0         0             0                0   \n",
      "15        0              0         1             0                0   \n",
      "16        0              0         0             0                0   \n",
      "17        0              0         0             0                0   \n",
      "18        0              0         0             0                0   \n",
      "19        0              0         0             1                1   \n",
      "\n",
      "    Carolina_Reaper  Vegan_Only  No_Gluten  No_Alcohol_Ingredients  \n",
      "0                 0           1          1                       1  \n",
      "1                 0           1          1                       1  \n",
      "2                 0           1          1                       1  \n",
      "3                 0           1          1                       1  \n",
      "4                 0           1          1                       1  \n",
      "5                 0           0          1                       1  \n",
      "6                 0           1          1                       1  \n",
      "7                 0           1          1                       1  \n",
      "8                 0           1          1                       1  \n",
      "9                 0           1          1                       1  \n",
      "10                0           1          1                       1  \n",
      "11                0           1          0                       1  \n",
      "12                0           1          0                       1  \n",
      "13                0           1          0                       1  \n",
      "14                0           1          1                       1  \n",
      "15                0           1          1                       1  \n",
      "16                0           1          1                       1  \n",
      "17                0           1          1                       1  \n",
      "18                0           1          1                       1  \n",
      "19                0           1          1                       1  \n",
      "\n",
      "[20 rows x 21 columns]\n"
     ]
    }
   ],
   "source": [
    "\"\"\"  \n",
    "iterator = n\n",
    "if surveyor2[8] == 1:\n",
    "    hotsauce2 = hotsauce2[hotsauce2['Vegan_Only']==1]\n",
    "    iterator=iterator-1\n",
    "if surveyor2[9] == 1:\n",
    "    hotsauce2 = hotsauce2[hotsauce2['No_Gluten']==1]\n",
    "    iterator=iterator-1\n",
    "if surveyor2[10] == 1:\n",
    "    hotsauce2 = hotsauce2[hotsauce2['No_Alcohol_Ingredients']==1]\n",
    "    iterator=iterator-1\n",
    "\"\"\"    \n",
    "test = 1\n",
    "\n",
    "\n",
    "\n",
    "hotsauce2 = hotsauce\n",
    "\n",
    "#hotsauce2.drop(hotsauce2[hotsauce2['Vegan_Only']==0], axis = 1)\n",
    "hotsauce2.drop(hotsauce2[hotsauce2['No_Gluten']==0], axis = 1)\n",
    "#hotsauce2.drop(hotsauce2[hotsauce2['No_Alcohol_Ingredients']==0], axis = 1)\n",
    "\n",
    "print hotsauce2\n"
   ]
  },
  {
   "cell_type": "code",
   "execution_count": 5,
   "metadata": {
    "collapsed": false
   },
   "outputs": [
    {
     "ename": "NameError",
     "evalue": "name 'hotsauce_cnt' is not defined",
     "output_type": "error",
     "traceback": [
      "\u001b[1;31m---------------------------------------------------------------------------\u001b[0m",
      "\u001b[1;31mNameError\u001b[0m                                 Traceback (most recent call last)",
      "\u001b[1;32m<ipython-input-5-027ce9b03296>\u001b[0m in \u001b[0;36m<module>\u001b[1;34m()\u001b[0m\n\u001b[0;32m      1\u001b[0m \u001b[0mscores\u001b[0m \u001b[1;33m=\u001b[0m \u001b[1;33m[\u001b[0m\u001b[1;33m[\u001b[0m\u001b[1;33m]\u001b[0m \u001b[1;32mfor\u001b[0m \u001b[0mi\u001b[0m \u001b[1;32min\u001b[0m \u001b[0mrange\u001b[0m\u001b[1;33m(\u001b[0m\u001b[0mhotsauce\u001b[0m\u001b[1;33m[\u001b[0m\u001b[1;34m'Product_ID'\u001b[0m\u001b[1;33m]\u001b[0m\u001b[1;33m.\u001b[0m\u001b[0mcount\u001b[0m\u001b[1;33m(\u001b[0m\u001b[1;33m)\u001b[0m\u001b[1;33m)\u001b[0m\u001b[1;33m]\u001b[0m\u001b[1;33m\u001b[0m\u001b[0m\n\u001b[1;32m----> 2\u001b[1;33m \u001b[1;32mfor\u001b[0m \u001b[0mn\u001b[0m \u001b[1;32min\u001b[0m \u001b[0mhotsauce_cnt\u001b[0m\u001b[1;33m:\u001b[0m\u001b[1;33m\u001b[0m\u001b[0m\n\u001b[0m\u001b[0;32m      3\u001b[0m     \u001b[0mscores\u001b[0m\u001b[1;33m[\u001b[0m\u001b[0mn\u001b[0m\u001b[1;33m]\u001b[0m\u001b[1;33m.\u001b[0m\u001b[0mappend\u001b[0m\u001b[1;33m(\u001b[0m\u001b[1;36m1\u001b[0m\u001b[1;33m)\u001b[0m\u001b[1;33m\u001b[0m\u001b[0m\n\u001b[0;32m      4\u001b[0m     \u001b[0mscores\u001b[0m\u001b[1;33m[\u001b[0m\u001b[0mn\u001b[0m\u001b[1;33m]\u001b[0m\u001b[1;33m.\u001b[0m\u001b[0mappend\u001b[0m\u001b[1;33m(\u001b[0m\u001b[1;36m2\u001b[0m\u001b[1;33m)\u001b[0m\u001b[1;33m\u001b[0m\u001b[0m\n\u001b[0;32m      5\u001b[0m \u001b[1;32mprint\u001b[0m \u001b[0mscores\u001b[0m\u001b[1;33m\u001b[0m\u001b[0m\n",
      "\u001b[1;31mNameError\u001b[0m: name 'hotsauce_cnt' is not defined"
     ]
    }
   ],
   "source": [
    "scores = [[] for i in range(hotsauce['Product_ID'].count())]\n",
    "for n in hotsauce_cnt:\n",
    "    scores[n].append(1)\n",
    "    scores[n].append(2)\n",
    "print scores\n",
    "\n",
    "     \"\"\"if surveys2.ix[n]['Vegan_Only'] == 1:\n",
    "            hotsauce2 = hotsauce2[hotsauce2['Vegan_Only']==1]\n",
    "        if surveys2.ix[n]['No_Gluten'] == 1:\n",
    "            hotsauce2 = hotsauce2[hotsauce2['No_Gluten']==1]\n",
    "        if surveys2.ix[n]['No_Alcohol_Ingredients'] == 1:\n",
    "            hotsauce2 = hotsauce2[hotsauce2['No_Alcohol_Ingredients']==1]\"\"\""
   ]
  },
  {
   "cell_type": "code",
   "execution_count": 26,
   "metadata": {
    "collapsed": false
   },
   "outputs": [
    {
     "ename": "IndexError",
     "evalue": "index 8 is out of bounds for axis 0 with size 8",
     "output_type": "error",
     "traceback": [
      "\u001b[1;31m---------------------------------------------------------------------------\u001b[0m",
      "\u001b[1;31mIndexError\u001b[0m                                Traceback (most recent call last)",
      "\u001b[1;32m<ipython-input-26-31c4fdbdf48c>\u001b[0m in \u001b[0;36m<module>\u001b[1;34m()\u001b[0m\n\u001b[0;32m     21\u001b[0m \u001b[1;32mfor\u001b[0m \u001b[0mi\u001b[0m \u001b[1;32min\u001b[0m \u001b[0mnp\u001b[0m\u001b[1;33m.\u001b[0m\u001b[0marange\u001b[0m\u001b[1;33m(\u001b[0m\u001b[1;36m1\u001b[0m\u001b[1;33m,\u001b[0m\u001b[0msurveys\u001b[0m\u001b[1;33m[\u001b[0m\u001b[1;34m'Survey'\u001b[0m\u001b[1;33m]\u001b[0m\u001b[1;33m.\u001b[0m\u001b[0mcount\u001b[0m\u001b[1;33m(\u001b[0m\u001b[1;33m)\u001b[0m\u001b[1;33m)\u001b[0m\u001b[1;33m:\u001b[0m\u001b[1;33m\u001b[0m\u001b[0m\n\u001b[0;32m     22\u001b[0m     \u001b[0marr2\u001b[0m \u001b[1;33m=\u001b[0m \u001b[1;33m(\u001b[0m\u001b[0msurveys\u001b[0m\u001b[1;33m.\u001b[0m\u001b[0mix\u001b[0m\u001b[1;33m[\u001b[0m\u001b[0mi\u001b[0m\u001b[1;33m]\u001b[0m\u001b[1;33m[\u001b[0m\u001b[1;33m[\u001b[0m\u001b[1;34m'Heat'\u001b[0m\u001b[1;33m,\u001b[0m\u001b[1;34m'Jalapeno'\u001b[0m\u001b[1;33m,\u001b[0m\u001b[1;34m'Serrano'\u001b[0m\u001b[1;33m,\u001b[0m\u001b[1;34m'Scotch_Bonnet'\u001b[0m\u001b[1;33m,\u001b[0m\u001b[1;34m'Habanero'\u001b[0m\u001b[1;33m,\u001b[0m\u001b[1;34m'Ghost_Pepper'\u001b[0m\u001b[1;33m,\u001b[0m\u001b[1;34m'Moruga_Scorpion'\u001b[0m\u001b[1;33m,\u001b[0m\u001b[1;34m'Carolina_Reaper'\u001b[0m\u001b[1;33m,\u001b[0m\u001b[1;34m'Vegan_Only'\u001b[0m\u001b[1;33m,\u001b[0m\u001b[1;34m'No_Gluten'\u001b[0m\u001b[1;33m,\u001b[0m\u001b[1;34m'No_Alcohol_Ingredients'\u001b[0m\u001b[1;33m]\u001b[0m\u001b[1;33m]\u001b[0m\u001b[1;33m)\u001b[0m\u001b[1;33m.\u001b[0m\u001b[0mvalues\u001b[0m\u001b[1;33m\u001b[0m\u001b[0m\n\u001b[1;32m---> 23\u001b[1;33m     \u001b[1;32mprint\u001b[0m \u001b[0mfinalsauces\u001b[0m\u001b[1;33m(\u001b[0m\u001b[0marr2\u001b[0m\u001b[1;33m)\u001b[0m\u001b[1;33m\u001b[0m\u001b[0m\n\u001b[0m",
      "\u001b[1;32m<ipython-input-26-31c4fdbdf48c>\u001b[0m in \u001b[0;36mfinalsauces\u001b[1;34m(surveyor2)\u001b[0m\n\u001b[0;32m     15\u001b[0m         \u001b[0marr1\u001b[0m \u001b[1;33m=\u001b[0m \u001b[1;33m(\u001b[0m\u001b[0mhotsauce2\u001b[0m\u001b[1;33m.\u001b[0m\u001b[0mix\u001b[0m\u001b[1;33m[\u001b[0m\u001b[0mn\u001b[0m\u001b[1;33m]\u001b[0m\u001b[1;33m[\u001b[0m\u001b[1;33m[\u001b[0m\u001b[1;34m'Heat'\u001b[0m\u001b[1;33m,\u001b[0m\u001b[1;34m'Jalapeno'\u001b[0m\u001b[1;33m,\u001b[0m\u001b[1;34m'Serrano'\u001b[0m\u001b[1;33m,\u001b[0m\u001b[1;34m'Scotch_Bonnet'\u001b[0m\u001b[1;33m,\u001b[0m\u001b[1;34m'Habanero'\u001b[0m\u001b[1;33m,\u001b[0m\u001b[1;34m'Ghost_Pepper'\u001b[0m\u001b[1;33m,\u001b[0m\u001b[1;34m'Moruga_Scorpion'\u001b[0m\u001b[1;33m,\u001b[0m\u001b[1;34m'Carolina_Reaper'\u001b[0m\u001b[1;33m]\u001b[0m\u001b[1;33m]\u001b[0m\u001b[1;33m)\u001b[0m\u001b[1;33m.\u001b[0m\u001b[0mvalues\u001b[0m\u001b[1;33m\u001b[0m\u001b[0m\n\u001b[0;32m     16\u001b[0m         \u001b[0marr2\u001b[0m \u001b[1;33m=\u001b[0m \u001b[0msurveyor2\u001b[0m\u001b[1;33m\u001b[0m\u001b[0m\n\u001b[1;32m---> 17\u001b[1;33m         \u001b[0mscores\u001b[0m\u001b[1;33m[\u001b[0m\u001b[0mn\u001b[0m\u001b[1;33m]\u001b[0m\u001b[1;33m.\u001b[0m\u001b[0mappend\u001b[0m\u001b[1;33m(\u001b[0m\u001b[0mfindsauces\u001b[0m\u001b[1;33m(\u001b[0m\u001b[0marr1\u001b[0m\u001b[1;33m,\u001b[0m\u001b[0marr2\u001b[0m\u001b[1;33m)\u001b[0m\u001b[1;33m)\u001b[0m\u001b[1;33m\u001b[0m\u001b[0m\n\u001b[0m\u001b[0;32m     18\u001b[0m         \u001b[0mscores\u001b[0m\u001b[1;33m[\u001b[0m\u001b[0mn\u001b[0m\u001b[1;33m]\u001b[0m\u001b[1;33m.\u001b[0m\u001b[0mappend\u001b[0m\u001b[1;33m(\u001b[0m\u001b[0mhotsauce\u001b[0m\u001b[1;33m.\u001b[0m\u001b[0mix\u001b[0m\u001b[1;33m[\u001b[0m\u001b[0mn\u001b[0m\u001b[1;33m]\u001b[0m\u001b[1;33m[\u001b[0m\u001b[1;34m'Product_ID'\u001b[0m\u001b[1;33m]\u001b[0m\u001b[1;33m)\u001b[0m\u001b[1;33m\u001b[0m\u001b[0m\n\u001b[0;32m     19\u001b[0m     \u001b[1;32mreturn\u001b[0m \u001b[0msorted\u001b[0m\u001b[1;33m(\u001b[0m\u001b[0mscores\u001b[0m\u001b[1;33m,\u001b[0m \u001b[0mreverse\u001b[0m\u001b[1;33m=\u001b[0m\u001b[0mFalse\u001b[0m\u001b[1;33m)\u001b[0m\u001b[1;33m\u001b[0m\u001b[0m\n",
      "\u001b[1;32m<ipython-input-26-31c4fdbdf48c>\u001b[0m in \u001b[0;36mfindsauces\u001b[1;34m(saucer, surveyor)\u001b[0m\n\u001b[0;32m      2\u001b[0m     \u001b[0msumsqerr\u001b[0m \u001b[1;33m=\u001b[0m \u001b[1;36m0\u001b[0m\u001b[1;33m\u001b[0m\u001b[0m\n\u001b[0;32m      3\u001b[0m     \u001b[1;32mfor\u001b[0m \u001b[0mi\u001b[0m \u001b[1;32min\u001b[0m \u001b[0msaucer\u001b[0m\u001b[1;33m:\u001b[0m\u001b[1;33m\u001b[0m\u001b[0m\n\u001b[1;32m----> 4\u001b[1;33m         \u001b[0msumsqerr\u001b[0m \u001b[1;33m+=\u001b[0m \u001b[0mnp\u001b[0m\u001b[1;33m.\u001b[0m\u001b[0mpower\u001b[0m\u001b[1;33m(\u001b[0m\u001b[0msaucer\u001b[0m\u001b[1;33m[\u001b[0m\u001b[0mi\u001b[0m\u001b[1;33m]\u001b[0m \u001b[1;33m-\u001b[0m \u001b[0msurveyor\u001b[0m\u001b[1;33m[\u001b[0m\u001b[0mi\u001b[0m\u001b[1;33m]\u001b[0m\u001b[1;33m,\u001b[0m\u001b[1;36m2\u001b[0m\u001b[1;33m)\u001b[0m\u001b[1;33m\u001b[0m\u001b[0m\n\u001b[0m\u001b[0;32m      5\u001b[0m     \u001b[1;32mreturn\u001b[0m \u001b[0msumsqerr\u001b[0m\u001b[1;33m\u001b[0m\u001b[0m\n\u001b[0;32m      6\u001b[0m \u001b[1;33m\u001b[0m\u001b[0m\n",
      "\u001b[1;31mIndexError\u001b[0m: index 8 is out of bounds for axis 0 with size 8"
     ]
    }
   ],
   "source": [
    "'''\n",
    "\n",
    "def findsauces (saucer, surveyor):\n",
    "    sumsqerr = 0\n",
    "    for i in saucer:\n",
    "        sumsqerr += np.power(saucer[i] - surveyor[i],2)\n",
    "    return sumsqerr\n",
    "\n",
    "def finalsauces (surveyor2):\n",
    "    #scores.append([])\n",
    "    #scores.append([])\n",
    "    hotsauce_cnt = np.arange(1,hotsauce['Product_ID'].count())\n",
    "    scores = [[] for i in range(hotsauce['Product_ID'].count())]\n",
    "    #surveys2 = pd.DataFrame(surveys)\n",
    "    for n in hotsauce_cnt:\n",
    "        hotsauce2 = pd.DataFrame(hotsauce)\n",
    "        arr1 = (hotsauce2.ix[n][['Heat','Jalapeno','Serrano','Scotch_Bonnet','Habanero','Ghost_Pepper','Moruga_Scorpion','Carolina_Reaper']]).values\n",
    "        arr2 = surveyor2\n",
    "        scores[n].append(findsauces(arr1,arr2))\n",
    "        scores[n].append(hotsauce.ix[n]['Product_ID'])\n",
    "    return sorted(scores, reverse=False)\n",
    "\n",
    "for i in np.arange(1,surveys['Survey'].count()):\n",
    "    arr2 = (surveys.ix[i][['Heat','Jalapeno','Serrano','Scotch_Bonnet','Habanero','Ghost_Pepper','Moruga_Scorpion','Carolina_Reaper','Vegan_Only','No_Gluten','No_Alcohol_Ingredients']]).values\n",
    "    print finalsauces(arr2)"
   ]
  }
 ],
 "metadata": {
  "kernelspec": {
   "display_name": "Python 2",
   "language": "python",
   "name": "python2"
  },
  "language_info": {
   "codemirror_mode": {
    "name": "ipython",
    "version": 2
   },
   "file_extension": ".py",
   "mimetype": "text/x-python",
   "name": "python",
   "nbconvert_exporter": "python",
   "pygments_lexer": "ipython2",
   "version": "2.7.9"
  }
 },
 "nbformat": 4,
 "nbformat_minor": 0
}
