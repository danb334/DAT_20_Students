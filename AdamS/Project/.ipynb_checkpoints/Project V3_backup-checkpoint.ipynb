{
 "cells": [
  {
   "cell_type": "code",
   "execution_count": 131,
   "metadata": {
    "collapsed": false
   },
   "outputs": [
    {
     "name": "stdout",
     "output_type": "stream",
     "text": [
      "                                           Name  Product_ID  \\\n",
      "0               American Style Pepper Sauce A&B          76   \n",
      "1                            Jalapeno Adoboloco          77   \n",
      "2                            Habanero Adoboloco          78   \n",
      "3                             Bangkok Adoboloco          79   \n",
      "4  Hamajang Kiawe Smoked Ghost Pepper Adoboloco          80   \n",
      "\n",
      "                                         Ingredients  Sweet  Smoke  Fruit  \\\n",
      "0  White Vinegar, Red Fresno Chili Pepper, Carrot...      2      0      5   \n",
      "1  Apple Cider Vinegar, Jalape�o Peppers, Sea Sal...      1      0      3   \n",
      "2  Apple Cider Vinegar, Habanero Peppers, Sea Sal...      1      0      3   \n",
      "3  Apple Cider Vinegar, Thai Peppers, Sea Salt, G...      1      0      3   \n",
      "4  Apple Cider Vinegar, Ghost Peppers + Habanero,...      1      0      3   \n",
      "\n",
      "   Vinegar  Salt  Garlic  Adventure           ...            Jalapeno  \\\n",
      "0        6     2       0          2           ...                   0   \n",
      "1        5     3       3          2           ...                   1   \n",
      "2        5     3       3          2           ...                   0   \n",
      "3        5     3       3          5           ...                   0   \n",
      "4        5     3       3          4           ...                   0   \n",
      "\n",
      "   Serrano  Scotch_Bonnet  Habanero  Ghost_Pepper  Moruga_Scorpion  \\\n",
      "0        0              0         1             0                0   \n",
      "1        0              0         0             0                0   \n",
      "2        0              0         1             0                0   \n",
      "3        0              0         0             0                0   \n",
      "4        0              0         1             1                0   \n",
      "\n",
      "   Carolina_Reaper  Vegan_Only  No_Gluten  No_Alcohol_Ingredients  \n",
      "0                0           1          1                       1  \n",
      "1                0           1          1                       1  \n",
      "2                0           1          1                       1  \n",
      "3                0           1          1                       1  \n",
      "4                0           1          1                       1  \n",
      "\n",
      "[5 rows x 21 columns]\n"
     ]
    }
   ],
   "source": [
    "#Add discrete heat variables\n",
    "\n",
    "import pandas as pd\n",
    "import numpy as np\n",
    "import csv as csv\n",
    "import matplotlib as mpl\n",
    "import matplotlib.pyplot as plt\n",
    "import sklearn.linear_model\n",
    "import sklearn.svm\n",
    "from datetime import datetime, date, time\n",
    "from IPython.display import Image\n",
    "%matplotlib inline\n",
    "\n",
    "import sklearn.cross_validation\n",
    "\n",
    "from sklearn.preprocessing import OneHotEncoder\n",
    "\n",
    "hotsauce = pd.read_csv('hotsauces.csv')\n",
    "surveys = pd.read_csv('surveys.csv')\n",
    "questions = ['Sweet ','Smoke ','Fruit ','Vinegar ','Salt ','Garlic ','Adventure ','Heat','Jalapeno','Serrano','Scotch_Bonnet','Habanero','Ghost_Pepper','Moruga_Scorpion','Carolina_Reaper','Vegan_Only','No_Gluten','No_Alcohol_Ingredients']\n",
    "print hotsauce.head()\n",
    "#print hotsauce.describe()\n",
    "\n"
   ]
  },
  {
   "cell_type": "code",
   "execution_count": 107,
   "metadata": {
    "collapsed": false
   },
   "outputs": [
    {
     "name": "stdout",
     "output_type": "stream",
     "text": [
      "[nan nan nan nan nan nan nan 5 0 0 0 0 0 0 0 0 1 1]\n"
     ]
    },
    {
     "data": {
      "text/plain": [
       "'\\nfor n in hotsauce_cnt:\\n    for i in questions_cnt:\\n        print np.power((hotsauce.ix[i,1] - surveys.ix[i,1]),2)\\n    \\nprint len(questions)\\n'"
      ]
     },
     "execution_count": 107,
     "metadata": {},
     "output_type": "execute_result"
    }
   ],
   "source": [
    "\n",
    "questions_cnt = np.arange(1,len(questions))\n",
    "\n",
    "\n",
    "#print hotsauce.ix[1].ix[0]\n",
    "print (hotsauce.ix[5][['Heat','Jalapeno','Serrano','Scotch_Bonnet','Habanero','Ghost_Pepper','Moruga_Scorpion','Carolina_Reaper','Vegan_Only','No_Gluten','No_Alcohol_Ingredients']]).values\n",
    "\n",
    "\"\"\"\n",
    "for n in hotsauce_cnt:\n",
    "    for i in questions_cnt:\n",
    "        print np.power((hotsauce.ix[i,1] - surveys.ix[i,1]),2)\n",
    "    \n",
    "print len(questions)\n",
    "\"\"\""
   ]
  },
  {
   "cell_type": "code",
   "execution_count": 177,
   "metadata": {
    "collapsed": false
   },
   "outputs": [
    {
     "name": "stdout",
     "output_type": "stream",
     "text": [
      "[[], [1, 86], [5, 80], [6, 89], [10, 95], [28, 79], [50, 82], [54, 78], [54, 87], [72, 81], [86, 85], [97, 91], [100, 77], [100, 84], [112, 83], [112, 94], [113, 88], [175, 90], [175, 92], [175, 93]]\n",
      "[[], [0, 82], [2, 81], [4, 78], [4, 87], [5, 85], [7, 77], [7, 84], [10, 79], [10, 88], [10, 91], [11, 83], [11, 94], [16, 95], [25, 80], [28, 89], [31, 90], [31, 92], [31, 93], [35, 86]]\n"
     ]
    }
   ],
   "source": [
    "def findsauces (saucer, surveyor):\n",
    "    sumsqerr = 0\n",
    "    for i in saucer:\n",
    "        sumsqerr += np.power(saucer[i] - surveyor[i],2)\n",
    "    return sumsqerr\n",
    "\n",
    "def finalsauces (surveyor2):\n",
    "    #scores.append([])\n",
    "    #scores.append([])\n",
    "    hotsauce_cnt = np.arange(1,hotsauce['Product_ID'].count())\n",
    "    scores = [[] for i in range(hotsauce['Product_ID'].count())]\n",
    "    for n in hotsauce_cnt:\n",
    "        arr1 = (hotsauce.ix[n][['Heat','Jalapeno','Serrano','Scotch_Bonnet','Habanero','Ghost_Pepper','Moruga_Scorpion','Carolina_Reaper','Vegan_Only','No_Gluten','No_Alcohol_Ingredients']]).values\n",
    "        arr2 = surveyor2\n",
    "        scores[n].append(findsauces(arr1,arr2))\n",
    "        scores[n].append(hotsauce.ix[n]['Product_ID'])\n",
    "    return sorted(scores, reverse=False)\n",
    "\n",
    "for i in np.arange(1,surveys['Survey'].count()):\n",
    "    arr2 = (surveys.ix[i][['Heat','Jalapeno','Serrano','Scotch_Bonnet','Habanero','Ghost_Pepper','Moruga_Scorpion','Carolina_Reaper','Vegan_Only','No_Gluten','No_Alcohol_Ingredients']]).values\n",
    "    print finalsauces(arr2)\n",
    "\n",
    "\n",
    "#print hotsauce[[questions]]\n",
    "#print findsauces(arr1,arr2)"
   ]
  },
  {
   "cell_type": "code",
   "execution_count": 165,
   "metadata": {
    "collapsed": false
   },
   "outputs": [
    {
     "name": "stdout",
     "output_type": "stream",
     "text": [
      "[[], [1, 2], [1, 2], [1, 2], [1, 2], [1, 2], [1, 2], [1, 2], [1, 2], [1, 2], [1, 2], [1, 2], [1, 2], [1, 2], [1, 2], [1, 2], [1, 2], [1, 2], [1, 2], [1, 2]]\n"
     ]
    }
   ],
   "source": [
    "scores = [[] for i in range(hotsauce['Product_ID'].count())]\n",
    "for n in hotsauce_cnt:\n",
    "    scores[n].append(1)\n",
    "    scores[n].append(2)\n",
    "print scores"
   ]
  }
 ],
 "metadata": {
  "kernelspec": {
   "display_name": "Python 2",
   "language": "python",
   "name": "python2"
  },
  "language_info": {
   "codemirror_mode": {
    "name": "ipython",
    "version": 2
   },
   "file_extension": ".py",
   "mimetype": "text/x-python",
   "name": "python",
   "nbconvert_exporter": "python",
   "pygments_lexer": "ipython2",
   "version": "2.7.9"
  }
 },
 "nbformat": 4,
 "nbformat_minor": 0
}
