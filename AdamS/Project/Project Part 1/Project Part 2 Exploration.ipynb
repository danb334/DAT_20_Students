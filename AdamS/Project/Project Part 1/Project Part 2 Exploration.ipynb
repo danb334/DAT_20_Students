{
 "metadata": {
  "name": "",
  "signature": "sha256:5331e6a1ff5a5d8f042910060624b2057b55b548a77c42f7ac1ed3c3ec4009d4"
 },
 "nbformat": 3,
 "nbformat_minor": 0,
 "worksheets": [
  {
   "cells": [
    {
     "cell_type": "code",
     "collapsed": false,
     "input": [
      "import pandas as pd\n",
      "import numpy as np\n",
      "import csv as csv\n",
      "import matplotlib as mpl\n",
      "import matplotlib.pyplot as plt\n",
      "import sklearn.linear_model\n",
      "import sklearn.svm\n",
      "from datetime import datetime, date, time\n",
      "from IPython.display import Image\n",
      "%matplotlib inline\n",
      "\n",
      "import sklearn.cross_validation\n",
      "\n",
      "from sklearn.preprocessing import OneHotEncoder\n",
      "from sklearn.linear_model import LinearRegression\n",
      "\n",
      "food_data = pd.read_csv('compounds_foods.csv', low_memory=False)\n",
      "print food_data.head()"
     ],
     "language": "python",
     "metadata": {},
     "outputs": [
      {
       "output_type": "stream",
       "stream": "stdout",
       "text": [
        "   id  compound_id  food_id orig_food_id orig_food_common_name  \\\n",
        "0   1        21634      287         0868         Alfalfa seeds   \n",
        "1   2         3523      287         0868         Alfalfa seeds   \n",
        "2   3         3523      287         0868         Alfalfa seeds   \n",
        "3   4         9414      287         0868         Alfalfa seeds   \n",
        "4   5        21594      287         0868         Alfalfa seeds   \n",
        "\n",
        "  orig_food_scientific_name orig_food_part orig_compound_id  \\\n",
        "0                       NaN            NaN             0000   \n",
        "1                       NaN            NaN             0001   \n",
        "2                       NaN            NaN             0002   \n",
        "3                       NaN            NaN             0003   \n",
        "4                       NaN            NaN             0004   \n",
        "\n",
        "             orig_compound_name    orig_content       ...        orig_unit  \\\n",
        "0                        Energy  1702.000000000       ...               kJ   \n",
        "1                Protein, total    35.100000000       ...                g   \n",
        "2              Protein, total-N     5.600000000       ...                g   \n",
        "3           Fat, total (Lipids)    12.600000000       ...                g   \n",
        "4  Fatty acids, total saturated     0.000000000       ...                g   \n",
        "\n",
        "  orig_citation citation  citation_type creator_id updater_id  \\\n",
        "0           NaN      DTU       DATABASE        NaN        NaN   \n",
        "1           NaN      DTU       DATABASE        NaN        NaN   \n",
        "2           NaN      DTU       DATABASE        NaN        NaN   \n",
        "3           NaN      DTU       DATABASE        NaN        NaN   \n",
        "4           NaN      DTU       DATABASE        NaN        NaN   \n",
        "\n",
        "            created_at           updated_at orig_method orig_unit_expression  \n",
        "0  2011-12-13 18:45:56  2011-12-13 18:45:56         NaN                  NaN  \n",
        "1  2011-12-13 18:45:56  2011-12-13 18:45:56         NaN                  NaN  \n",
        "2  2011-12-13 18:45:56  2011-12-13 18:45:56         NaN                  NaN  \n",
        "3  2011-12-13 18:45:56  2011-12-13 18:45:56         NaN                  NaN  \n",
        "4  2011-12-13 18:45:56  2011-12-13 18:45:56         NaN                  NaN  \n",
        "\n",
        "[5 rows x 22 columns]\n"
       ]
      }
     ],
     "prompt_number": 1
    },
    {
     "cell_type": "code",
     "collapsed": false,
     "input": [
      "#food_data.describe()\n",
      "#food_data_grp = food_data.groupby(food_data['orig_compound_name'])\n",
      "#plt.hist(food_data['orig_compound_name'])\n",
      "\n",
      "#print food_data['orig_content'].where(isnumeric(food_data['orig_content'])== FALSE)\n",
      "print food_data['orig_content'] == np.NAN()\n"
     ],
     "language": "python",
     "metadata": {},
     "outputs": [
      {
       "ename": "TypeError",
       "evalue": "'float' object is not callable",
       "output_type": "pyerr",
       "traceback": [
        "\u001b[1;31m---------------------------------------------------------------------------\u001b[0m\n\u001b[1;31mTypeError\u001b[0m                                 Traceback (most recent call last)",
        "\u001b[1;32m<ipython-input-5-41f18c1f847f>\u001b[0m in \u001b[0;36m<module>\u001b[1;34m()\u001b[0m\n\u001b[0;32m      4\u001b[0m \u001b[1;33m\u001b[0m\u001b[0m\n\u001b[0;32m      5\u001b[0m \u001b[1;31m#print food_data['orig_content'].where(isnumeric(food_data['orig_content'])== FALSE)\u001b[0m\u001b[1;33m\u001b[0m\u001b[1;33m\u001b[0m\u001b[0m\n\u001b[1;32m----> 6\u001b[1;33m \u001b[1;32mprint\u001b[0m \u001b[0mfood_data\u001b[0m\u001b[1;33m[\u001b[0m\u001b[1;34m'orig_content'\u001b[0m\u001b[1;33m]\u001b[0m \u001b[1;33m==\u001b[0m \u001b[0mnp\u001b[0m\u001b[1;33m.\u001b[0m\u001b[0mNAN\u001b[0m\u001b[1;33m(\u001b[0m\u001b[1;33m)\u001b[0m\u001b[1;33m\u001b[0m\u001b[0m\n\u001b[0m",
        "\u001b[1;31mTypeError\u001b[0m: 'float' object is not callable"
       ]
      }
     ],
     "prompt_number": 5
    }
   ],
   "metadata": {}
  }
 ]
}